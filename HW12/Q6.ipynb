{
 "cells": [
  {
   "cell_type": "code",
   "execution_count": 1,
   "metadata": {
    "collapsed": true
   },
   "outputs": [],
   "source": [
    "__author__ = 'Modified by :aqeel'\n",
    "import pandas as pd\n",
    "import numpy as np\n",
    "import RandomMatrix\n",
    "import ShortestPathFinder\n",
    "# Copyright 2010-2014 Google\n",
    "# Licensed under the Apache License, Version 2.0 (the \"License\");\n",
    "# you may not use this file except in compliance with the License.\n",
    "# You may obtain a copy of the License at\n",
    "#\n",
    "#     http://www.apache.org/licenses/LICENSE-2.0\n",
    "#\n",
    "# Unless required by applicable law or agreed to in writing, software\n",
    "# distributed under the License is distributed on an \"AS IS\" BASIS,\n",
    "# WITHOUT WARRANTIES OR CONDITIONS OF ANY KIND, either express or implied.\n",
    "# See the License for the specific language governing permissions and\n",
    "# limitations under the License.\n",
    "\n",
    "\"\"\"Traveling Salesman Sample.\n",
    "   This is a sample using the routing library python wrapper to solve a\n",
    "   Traveling Salesman Problem.\n",
    "   The description of the problem can be found here:\n",
    "   http://en.wikipedia.org/wiki/Travelling_salesman_problem.\n",
    "   The optimization engine uses local search to improve solutions, first\n",
    "   solutions being generated using a cheapest addition heuristic.\n",
    "   Optionally one can randomly forbid a set of random connections between nodes\n",
    "   (forbidden arcs).\n",
    "\"\"\"\n",
    "import random\n",
    "import gflags\n",
    "from ortools.constraint_solver import pywrapcp"
   ]
  },
  {
   "cell_type": "code",
   "execution_count": 2,
   "metadata": {
    "collapsed": true
   },
   "outputs": [],
   "source": [
    "# function to Calculate the distance which can be replaced with any Type of Distance\n",
    "# ex. Google API to Calculate the distance between two GPS Coordinations\n",
    "def distance(p1, p2):\n",
    "    dist = np.linalg.norm(p1-p2)\n",
    "    return dist\n",
    "\n",
    "\n",
    "class RandomMatrix(object):\n",
    "    \"\"\"Random matrix.\"\"\"\n",
    "\n",
    "    def __init__(self,points):\n",
    "        self.lst = points\n",
    "        \"\"\"Initialize random matrix.\"\"\"\n",
    "        self.matrix = {}\n",
    "        for from_node in xrange(len(self.lst)):\n",
    "            self.matrix[from_node] = {}\n",
    "            for to_node in xrange(len(self.lst)):\n",
    "                if from_node == to_node:\n",
    "                    self.matrix[from_node][to_node] = 0\n",
    "                else:\n",
    "                    self.matrix[from_node][to_node] = distance(self.lst[from_node], self.lst[to_node])\n",
    "    def Distance(self, from_node, to_node):\n",
    "        return self.matrix[from_node][to_node]"
   ]
  },
  {
   "cell_type": "code",
   "execution_count": 3,
   "metadata": {
    "collapsed": false,
    "scrolled": true
   },
   "outputs": [],
   "source": [
    "with open ('DM2016_i2.txt') as f:\n",
    "    d = {}\n",
    "    headers = f.readline().split(' ')\n",
    "    values = map(lambda x:x.split(),f.readlines())\n",
    "    for i in range(len(values[0])):\n",
    "        d[i]=[]\n",
    "        for v in values:\n",
    "            d[i].append(v[i])\n",
    "data = pd.DataFrame(d)\n",
    "npdata = data[data.columns[1:]].as_matrix()\n",
    "npdata = np.array(npdata,dtype=int)"
   ]
  },
  {
   "cell_type": "code",
   "execution_count": 4,
   "metadata": {
    "collapsed": false
   },
   "outputs": [
    {
     "data": {
      "text/plain": [
       "(812, 3073)"
      ]
     },
     "execution_count": 4,
     "metadata": {},
     "output_type": "execute_result"
    }
   ],
   "source": [
    "data.shape"
   ]
  },
  {
   "cell_type": "code",
   "execution_count": 5,
   "metadata": {
    "collapsed": false
   },
   "outputs": [
    {
     "data": {
      "text/html": [
       "<div style=\"max-height:1000px;max-width:1500px;overflow:auto;\">\n",
       "<table border=\"1\" class=\"dataframe\">\n",
       "  <thead>\n",
       "    <tr style=\"text-align: right;\">\n",
       "      <th></th>\n",
       "      <th>0</th>\n",
       "      <th>1</th>\n",
       "      <th>2</th>\n",
       "      <th>3</th>\n",
       "      <th>4</th>\n",
       "      <th>5</th>\n",
       "      <th>6</th>\n",
       "      <th>7</th>\n",
       "      <th>8</th>\n",
       "      <th>9</th>\n",
       "      <th>...</th>\n",
       "      <th>3063</th>\n",
       "      <th>3064</th>\n",
       "      <th>3065</th>\n",
       "      <th>3066</th>\n",
       "      <th>3067</th>\n",
       "      <th>3068</th>\n",
       "      <th>3069</th>\n",
       "      <th>3070</th>\n",
       "      <th>3071</th>\n",
       "      <th>3072</th>\n",
       "    </tr>\n",
       "  </thead>\n",
       "  <tbody>\n",
       "    <tr>\n",
       "      <th>0</th>\n",
       "      <td> R00001</td>\n",
       "      <td> 146</td>\n",
       "      <td> 132</td>\n",
       "      <td> 97</td>\n",
       "      <td> 148</td>\n",
       "      <td> 134</td>\n",
       "      <td> 99</td>\n",
       "      <td> 143</td>\n",
       "      <td> 130</td>\n",
       "      <td> 95</td>\n",
       "      <td>...</td>\n",
       "      <td> 64</td>\n",
       "      <td> 116</td>\n",
       "      <td> 90</td>\n",
       "      <td> 65</td>\n",
       "      <td> 115</td>\n",
       "      <td> 89</td>\n",
       "      <td> 64</td>\n",
       "      <td> 111</td>\n",
       "      <td> 85</td>\n",
       "      <td> 60</td>\n",
       "    </tr>\n",
       "  </tbody>\n",
       "</table>\n",
       "<p>1 rows × 3073 columns</p>\n",
       "</div>"
      ],
      "text/plain": [
       "     0    1    2    3    4    5    6    7    8    9    ...  3063 3064 3065  \\\n",
       "0  R00001  146  132   97  148  134   99  143  130   95 ...    64  116   90   \n",
       "\n",
       "  3066 3067 3068 3069 3070 3071 3072  \n",
       "0   65  115   89   64  111   85   60  \n",
       "\n",
       "[1 rows x 3073 columns]"
      ]
     },
     "execution_count": 5,
     "metadata": {},
     "output_type": "execute_result"
    }
   ],
   "source": [
    "data.head(1)"
   ]
  },
  {
   "cell_type": "code",
   "execution_count": 6,
   "metadata": {
    "collapsed": true
   },
   "outputs": [],
   "source": [
    "class ShortestPathFinder:\n",
    "    def __init__(self, pointslist):\n",
    "        reload(gflags)\n",
    "        self.FLAGS = gflags.FLAGS\n",
    "        self.points = pointslist\n",
    "\n",
    "        gflags.DEFINE_integer('tsp_size', len(pointslist),\n",
    "                              'Size of Traveling Salesman Problem instance.')\n",
    "        gflags.DEFINE_boolean('tsp_use_random_matrix', True,\n",
    "                              'Use random cost matrix.')\n",
    "        gflags.DEFINE_integer('tsp_random_forbidden_connections', 0,\n",
    "                              'Number of random forbidden connections.')\n",
    "        gflags.DEFINE_integer('tsp_random_seed', 0, 'Random seed.')\n",
    "        gflags.DEFINE_boolean('light_propagation', False, 'Use light propagation')\n",
    "\n",
    "    def FindApproximateShortestWay(self):\n",
    "        # Create routing model\n",
    "        if self.FLAGS.tsp_size > 0:\n",
    "            # Set a global parameter.\n",
    "            param = pywrapcp.RoutingParameters()\n",
    "            param.use_light_propagation = self.FLAGS.light_propagation\n",
    "            pywrapcp.RoutingModel.SetGlobalParameters(param)\n",
    "\n",
    "            # TSP of size FLAGS.tsp_size\n",
    "            # Second argument = 1 to build a single tour (it's a TSP).\n",
    "            # Nodes are indexed from 0 to FLAGS_tsp_size - 1, by default the start of\n",
    "            # the route is node 0.\n",
    "            routing = pywrapcp.RoutingModel(self.FLAGS.tsp_size, 1)\n",
    "\n",
    "            parameters = pywrapcp.RoutingSearchParameters()\n",
    "            # Setting first solution heuristic (cheapest addition).\n",
    "            parameters.first_solution = 'PathCheapestArc'\n",
    "            # Disabling Large Neighborhood Search, comment out to activate it.\n",
    "            parameters.no_lns = True\n",
    "            parameters.no_tsp = False\n",
    "\n",
    "            # Setting the cost function.\n",
    "            # Put a callback to the distance accessor here. The callback takes two\n",
    "            # arguments (the from and to node inidices) and returns the distance between\n",
    "            # these nodes.\n",
    "            matrix = RandomMatrix(self.points)\n",
    "            matrix_callback = matrix.Distance\n",
    "            if self.FLAGS.tsp_use_random_matrix:\n",
    "                routing.SetArcCostEvaluatorOfAllVehicles(matrix_callback)\n",
    "            else:\n",
    "                routing.SetArcCostEvaluatorOfAllVehicles(RandomMatrix.distance)\n",
    "            # Forbid node connections (randomly).\n",
    "            rand = random.Random()\n",
    "            rand.seed(self.FLAGS.tsp_random_seed)\n",
    "            forbidden_connections = 0\n",
    "            while forbidden_connections < self.FLAGS.tsp_random_forbidden_connections:\n",
    "                from_node = rand.randrange(self.FLAGS.tsp_size - 1)\n",
    "                to_node = rand.randrange(self.FLAGS.tsp_size - 1) + 1\n",
    "                if routing.NextVar(from_node).Contains(to_node):\n",
    "                    print 'Forbidding connection ' + str(from_node) + ' -> ' + str(to_node)\n",
    "                    routing.NextVar(from_node).RemoveValue(to_node)\n",
    "                    forbidden_connections += 1\n",
    "\n",
    "            # Solve, returns a solution if any.\n",
    "            assignment = routing.SolveWithParameters(parameters, None)\n",
    "            if assignment:\n",
    "                # Solution cost.\n",
    "                cost =  assignment.ObjectiveValue()\n",
    "                # Inspect solution.\n",
    "                # Only one route here; otherwise iterate from 0 to routing.vehicles() - 1\n",
    "                route_number = 0\n",
    "                node = routing.Start(route_number)\n",
    "                result =[]\n",
    "                while not routing.IsEnd(node):\n",
    "                    result.append(self.points[int(node)])\n",
    "                    node = assignment.Value(routing.NextVar(node))\n",
    "                result.append(self.points[0])\n",
    "                return cost,result\n",
    "            else:\n",
    "                print 'No solution found.'\n",
    "        else:\n",
    "            print 'Specify an instance greater than 0.'"
   ]
  },
  {
   "cell_type": "code",
   "execution_count": 7,
   "metadata": {
    "collapsed": true
   },
   "outputs": [],
   "source": [
    "resut = ShortestPathFinder(npdata)"
   ]
  },
  {
   "cell_type": "code",
   "execution_count": 8,
   "metadata": {
    "collapsed": false
   },
   "outputs": [],
   "source": [
    "totaldistance,plan = resut.FindApproximateShortestWay()"
   ]
  },
  {
   "cell_type": "markdown",
   "metadata": {},
   "source": [
    "#Find Best Cut"
   ]
  },
  {
   "cell_type": "code",
   "execution_count": 9,
   "metadata": {
    "collapsed": true
   },
   "outputs": [],
   "source": [
    "maxvalue=0\n",
    "maxindex=-1\n",
    "for i in range(len(plan)-1):\n",
    "    dist = np.linalg.norm(plan[i]-plan[i+1])\n",
    "    if (dist>maxvalue):\n",
    "        maxvalue = dist\n",
    "        maxindex=i"
   ]
  },
  {
   "cell_type": "code",
   "execution_count": 10,
   "metadata": {
    "collapsed": false,
    "scrolled": false
   },
   "outputs": [
    {
     "name": "stdout",
     "output_type": "stream",
     "text": [
      "100\n",
      "200\n",
      "300\n",
      "400\n",
      "500\n",
      "600\n",
      "700\n",
      "800\n"
     ]
    }
   ],
   "source": [
    "lst=[]\n",
    "i=0\n",
    "for p in plan:\n",
    "    lst.append(np.argmax(np.sum(npdata==p,axis=1)))\n",
    "    i+=1\n",
    "    if i%100==0:\n",
    "        print i"
   ]
  },
  {
   "cell_type": "code",
   "execution_count": 11,
   "metadata": {
    "collapsed": false,
    "scrolled": true
   },
   "outputs": [],
   "source": [
    "output = map(lambda x:data[data.index[0]][x],lst)"
   ]
  },
  {
   "cell_type": "code",
   "execution_count": 12,
   "metadata": {
    "collapsed": false
   },
   "outputs": [],
   "source": [
    "lst2=output[maxindex:] + output[:maxindex]"
   ]
  },
  {
   "cell_type": "code",
   "execution_count": 13,
   "metadata": {
    "collapsed": true
   },
   "outputs": [],
   "source": [
    "f = open('output2.txt','w')\n",
    "for element in lst2:\n",
    "    f.write('\\n{}'.format(element))\n",
    "f.close()"
   ]
  },
  {
   "cell_type": "code",
   "execution_count": null,
   "metadata": {
    "collapsed": true
   },
   "outputs": [],
   "source": []
  }
 ],
 "metadata": {
  "kernelspec": {
   "display_name": "Python 2",
   "language": "python",
   "name": "python2"
  },
  "language_info": {
   "codemirror_mode": {
    "name": "ipython",
    "version": 2
   },
   "file_extension": ".py",
   "mimetype": "text/x-python",
   "name": "python",
   "nbconvert_exporter": "python",
   "pygments_lexer": "ipython2",
   "version": "2.7.11+"
  }
 },
 "nbformat": 4,
 "nbformat_minor": 0
}
