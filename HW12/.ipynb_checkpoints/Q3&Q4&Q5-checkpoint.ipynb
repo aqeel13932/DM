{
 "cells": [
  {
   "cell_type": "markdown",
   "metadata": {},
   "source": [
    "#Q3"
   ]
  },
  {
   "cell_type": "code",
   "execution_count": 1,
   "metadata": {
    "collapsed": true
   },
   "outputs": [],
   "source": [
    "import pandas as pd\n",
    "import numpy as np\n",
    "%matplotlib inline\n",
    "import matplotlib.pyplot as plt"
   ]
  },
  {
   "cell_type": "code",
   "execution_count": 2,
   "metadata": {
    "collapsed": true
   },
   "outputs": [],
   "source": [
    "data = pd.read_csv('extract_medium.csv',sep=';')"
   ]
  },
  {
   "cell_type": "code",
   "execution_count": 3,
   "metadata": {
    "collapsed": false
   },
   "outputs": [
    {
     "data": {
      "text/html": [
       "<div style=\"max-height:1000px;max-width:1500px;overflow:auto;\">\n",
       "<table border=\"1\" class=\"dataframe\">\n",
       "  <thead>\n",
       "    <tr style=\"text-align: right;\">\n",
       "      <th></th>\n",
       "      <th>State</th>\n",
       "      <th>House_id</th>\n",
       "      <th>Weight</th>\n",
       "      <th>House_relation</th>\n",
       "      <th>Sex</th>\n",
       "      <th>Age</th>\n",
       "      <th>Race</th>\n",
       "      <th>Marriage</th>\n",
       "      <th>Education</th>\n",
       "      <th>Ancestry</th>\n",
       "      <th>Language</th>\n",
       "      <th>Employment_status</th>\n",
       "      <th>Traveltime</th>\n",
       "      <th>Industry</th>\n",
       "      <th>Occupation</th>\n",
       "      <th>Hours</th>\n",
       "      <th>Weeks</th>\n",
       "      <th>Salary</th>\n",
       "      <th>Income</th>\n",
       "      <th>Earnings</th>\n",
       "    </tr>\n",
       "  </thead>\n",
       "  <tbody>\n",
       "    <tr>\n",
       "      <th>0</th>\n",
       "      <td> Arizona</td>\n",
       "      <td> 3399818</td>\n",
       "      <td> 18</td>\n",
       "      <td> 3</td>\n",
       "      <td> 2</td>\n",
       "      <td> 14</td>\n",
       "      <td> 8</td>\n",
       "      <td> 5</td>\n",
       "      <td> 4</td>\n",
       "      <td> 210</td>\n",
       "      <td> 0</td>\n",
       "      <td> 0</td>\n",
       "      <td> 0</td>\n",
       "      <td> 0</td>\n",
       "      <td> 0</td>\n",
       "      <td> 0</td>\n",
       "      <td> 0</td>\n",
       "      <td> 0</td>\n",
       "      <td> 0</td>\n",
       "      <td> 0</td>\n",
       "    </tr>\n",
       "  </tbody>\n",
       "</table>\n",
       "</div>"
      ],
      "text/plain": [
       "     State  House_id  Weight  House_relation  Sex  Age  Race  Marriage  \\\n",
       "0  Arizona   3399818      18               3    2   14     8         5   \n",
       "\n",
       "   Education  Ancestry  Language  Employment_status  Traveltime  Industry  \\\n",
       "0          4       210         0                  0           0         0   \n",
       "\n",
       "   Occupation  Hours  Weeks  Salary  Income  Earnings  \n",
       "0           0      0      0       0       0         0  "
      ]
     },
     "execution_count": 3,
     "metadata": {},
     "output_type": "execute_result"
    }
   ],
   "source": [
    "data.head(1)"
   ]
  },
  {
   "cell_type": "code",
   "execution_count": 4,
   "metadata": {
    "collapsed": false
   },
   "outputs": [],
   "source": [
    "table = pd.pivot_table(data,values='Earnings',index=['Sex', 'Education'],aggfunc=np.mean)\n",
    "##OR###\n",
    "temp1 = data.groupby(['Sex', 'Education']).Earnings.mean()"
   ]
  },
  {
   "cell_type": "code",
   "execution_count": 5,
   "metadata": {
    "collapsed": false,
    "scrolled": true
   },
   "outputs": [
    {
     "data": {
      "text/plain": [
       "Sex  Education\n",
       "1    0                0.000000\n",
       "     1             3504.784689\n",
       "     2              690.859232\n",
       "     3             5083.671988\n",
       "     4             4073.961606\n",
       "     5             9596.498516\n",
       "     6            11185.848485\n",
       "     7            11167.638889\n",
       "     8            19404.356436\n",
       "     9            24012.275826\n",
       "     10           28201.210614\n",
       "     11           28488.347335\n",
       "     12           35081.001821\n",
       "     13           53294.264282\n",
       "     14           70755.173611\n",
       "     15           94245.204918\n",
       "     16           61467.676768\n",
       "2    0                0.000000\n",
       "     1              947.790323\n",
       "     2              387.342995\n",
       "     3             2771.055195\n",
       "     4             2256.137405\n",
       "     5             3326.657609\n",
       "     6             4281.338798\n",
       "     7             5003.164557\n",
       "     8             9200.885781\n",
       "     9            11515.832571\n",
       "     10           16305.045514\n",
       "     11           16949.317489\n",
       "     12           21991.480263\n",
       "     13           33193.713496\n",
       "     14           44412.231834\n",
       "     15           46821.961290\n",
       "     16           41476.065574\n",
       "Name: Earnings, dtype: float64"
      ]
     },
     "execution_count": 5,
     "metadata": {},
     "output_type": "execute_result"
    }
   ],
   "source": [
    "temp1"
   ]
  },
  {
   "cell_type": "code",
   "execution_count": 6,
   "metadata": {
    "collapsed": false
   },
   "outputs": [],
   "source": [
    "temp1 = temp1.values\n",
    "test=temp1.reshape(2,17)"
   ]
  },
  {
   "cell_type": "code",
   "execution_count": 7,
   "metadata": {
    "collapsed": false
   },
   "outputs": [
    {
     "data": {
      "text/plain": [
       "(2, 17)"
      ]
     },
     "execution_count": 7,
     "metadata": {},
     "output_type": "execute_result"
    }
   ],
   "source": [
    "test.shape"
   ]
  },
  {
   "cell_type": "code",
   "execution_count": 8,
   "metadata": {
    "collapsed": false
   },
   "outputs": [
    {
     "name": "stderr",
     "output_type": "stream",
     "text": [
      "/home/aqeel/.local/lib/python2.7/site-packages/matplotlib/collections.py:590: FutureWarning: elementwise comparison failed; returning scalar instead, but in the future will perform elementwise comparison\n",
      "  if self._edgecolors == str('face'):\n"
     ]
    },
    {
     "data": {
      "image/png": "[encoded data removed]",
      "text/plain": [
       "<matplotlib.figure.Figure at 0x7f06a7ef4050>"
      ]
     },
     "metadata": {},
     "output_type": "display_data"
    }
   ],
   "source": [
    "plt.pcolor(test,cmap=plt.cm.Reds,vmin=np.min(test), vmax=np.max(test))\n",
    "plt.yticks([0,1],range(3))\n",
    "plt.xticks(range(17),range(17))\n",
    "plt.title('Heat map of average Earnings Gender Vs Education')\n",
    "plt.show()\n",
    "plt.close()"
   ]
  },
  {
   "cell_type": "code",
   "execution_count": null,
   "metadata": {
    "collapsed": true
   },
   "outputs": [],
   "source": []
  }
 ],
 "metadata": {
  "kernelspec": {
   "display_name": "Python 2",
   "language": "python",
   "name": "python2"
  },
  "language_info": {
   "codemirror_mode": {
    "name": "ipython",
    "version": 2
   },
   "file_extension": ".py",
   "mimetype": "text/x-python",
   "name": "python",
   "nbconvert_exporter": "python",
   "pygments_lexer": "ipython2",
   "version": "2.7.11+"
  }
 },
 "nbformat": 4,
 "nbformat_minor": 0
}
