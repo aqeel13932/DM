{
 "cells": [
  {
   "cell_type": "code",
   "execution_count": 17,
   "metadata": {
    "collapsed": true
   },
   "outputs": [],
   "source": [
    "__author__ = 'aqeel'\n",
    "#Note Remove This Line to Get the Figure in Seperate Window\n",
    "%matplotlib inline\n",
    "import matplotlib.pyplot as plt\n",
    "import csv\n",
    "import numpy as np"
   ]
  },
  {
   "cell_type": "code",
   "execution_count": 53,
   "metadata": {
    "collapsed": false
   },
   "outputs": [],
   "source": [
    "with open ('ncmp_1415_final_non_disclosive.csv','rb') as datafile:\n",
    "    spamreader = csv.reader(datafile)\n",
    "    data = list(spamreader)"
   ]
  },
  {
   "cell_type": "code",
   "execution_count": 54,
   "metadata": {
    "collapsed": false
   },
   "outputs": [],
   "source": [
    "col = np.array(data[0])\n",
    "data = np.matrix(data[1:])"
   ]
  },
  {
   "cell_type": "code",
   "execution_count": 55,
   "metadata": {
    "collapsed": false
   },
   "outputs": [
    {
     "data": {
      "text/plain": [
       "array(['ncmppseudosystemid', 'genderdescription', 'ageinmonths',\n",
       "       'schoolyear', 'height', 'heightzscore', 'heightpscore', 'weight',\n",
       "       'weightzscore', 'weightpscore', 'bmi', 'bmizscore', 'bmipscore',\n",
       "       'bmipopulationcategory', 'bmiclinicalcategory',\n",
       "       'schooltier1localauthority', 'schooltier2localauthority',\n",
       "       'schoolgovernmentofficeregion', 'schoolindexofmultipledepriv',\n",
       "       'pupilschooldistancebanded', 'suppress_record_high',\n",
       "       'suppress_record_low', 'suppress_table', 'suppress_imd'], \n",
       "      dtype='|S28')"
      ]
     },
     "execution_count": 55,
     "metadata": {},
     "output_type": "execute_result"
    }
   ],
   "source": [
    "col"
   ]
  },
  {
   "cell_type": "code",
   "execution_count": 134,
   "metadata": {
    "collapsed": false
   },
   "outputs": [
    {
     "data": {
      "text/plain": [
       "(5000, 24)"
      ]
     },
     "execution_count": 134,
     "metadata": {},
     "output_type": "execute_result"
    }
   ],
   "source": [
    "samplerows= np.random.randint(data.shape[0],size=5000)\n",
    "sampledata =np.array( data[samplerows,:])\n",
    "sampledata.shape"
   ]
  },
  {
   "cell_type": "code",
   "execution_count": 95,
   "metadata": {
    "collapsed": false
   },
   "outputs": [],
   "source": [
    "def ColIndex(colname):\n",
    "    return np.where(col==colname)[0][0]"
   ]
  },
  {
   "cell_type": "code",
   "execution_count": 83,
   "metadata": {
    "collapsed": false
   },
   "outputs": [],
   "source": [
    "negativedata = sampledata[sampledata[ColIndex('height')]<0,]"
   ]
  },
  {
   "cell_type": "code",
   "execution_count": 137,
   "metadata": {
    "collapsed": false
   },
   "outputs": [
    {
     "data": {
      "text/plain": [
       "numpy.ndarray"
      ]
     },
     "execution_count": 137,
     "metadata": {},
     "output_type": "execute_result"
    }
   ],
   "source": [
    "type(sampledata)"
   ]
  },
  {
   "cell_type": "code",
   "execution_count": 152,
   "metadata": {
    "collapsed": false
   },
   "outputs": [
    {
     "data": {
      "text/plain": [
       "array(['758243', '1064518', '396672', ..., '618479', '554158', '1093270'], \n",
       "      dtype='|S20')"
      ]
     },
     "execution_count": 152,
     "metadata": {},
     "output_type": "execute_result"
    }
   ],
   "source": [
    "sampledata[:,0]"
   ]
  }
 ],
 "metadata": {
  "kernelspec": {
   "display_name": "Python 2",
   "language": "python",
   "name": "python2"
  },
  "language_info": {
   "codemirror_mode": {
    "name": "ipython",
    "version": 2
   },
   "file_extension": ".py",
   "mimetype": "text/x-python",
   "name": "python",
   "nbconvert_exporter": "python",
   "pygments_lexer": "ipython2",
   "version": "2.7.10"
  }
 },
 "nbformat": 4,
 "nbformat_minor": 0
}
