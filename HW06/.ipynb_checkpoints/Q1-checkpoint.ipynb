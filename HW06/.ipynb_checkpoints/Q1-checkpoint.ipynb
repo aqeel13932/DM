{
 "cells": [
  {
   "cell_type": "code",
   "execution_count": 96,
   "metadata": {
    "collapsed": false
   },
   "outputs": [],
   "source": [
    "import itertools\n",
    "import sys"
   ]
  },
  {
   "cell_type": "code",
   "execution_count": 97,
   "metadata": {
    "collapsed": false
   },
   "outputs": [],
   "source": [
    "main =[]\n",
    "main.append(sorted(['B','C', 'A' ,'F', 'H']))\n",
    "main.append(sorted(['F', 'E', 'C', 'H']))\n",
    "main.append(sorted(['E' ,'D', 'B']))\n",
    "main.append(sorted(['A', 'C' ,'H', 'F']))\n",
    "main.append(sorted(['E', 'F' ,'A']))\n",
    "main.append(sorted(['D', 'H' ,'B']))\n",
    "main.append(sorted(['E', 'C' ,'F', 'B', 'D']))\n",
    "main.append(sorted(['A', 'H' ,'C', 'E']))\n",
    "main.append(sorted(['G', 'A', 'E']))\n",
    "main.append(sorted(['B', 'H', 'E']))"
   ]
  },
  {
   "cell_type": "code",
   "execution_count": 98,
   "metadata": {
    "collapsed": false
   },
   "outputs": [],
   "source": [
    "class Core:\n",
    "    def __init__(self,name=None,occurence=0):\n",
    "        self.name = name\n",
    "        self.occurence =occurence\n",
    "        self.sons={}\n",
    "    def AddItem(self,items):\n",
    "        if len(items)<=0:\n",
    "            return\n",
    "        if items[0] in self.sons.keys():\n",
    "            self.sons[items[0]].occurence+=1\n",
    "            self.sons[items[0]].AddItem(items[1:])\n",
    "        else:\n",
    "            self.sons[items[0]] = Core(name=items[0],occurence=1)\n",
    "            self.sons[items[0]].AddItem(items[1:])\n",
    "    def printeverything(self,level=0):\n",
    "        #print \n",
    "        thespace = '----'*level\n",
    "        print(thespace+str(self.name)+':'+str(self.occurence))\n",
    "        for itm in self.sons.keys():\n",
    "            self.sons[itm].printeverything(level=level+1)\n",
    "        #sys.stdout.write('\\n')\n",
    "    #def printeverything2(self,level=0):\n",
    "    #    print '\\t' * level + repr(self.value)\n",
    "    #    for child in self.children:\n",
    "    #        child.other_name(level+1)"
   ]
  },
  {
   "cell_type": "code",
   "execution_count": 99,
   "metadata": {
    "collapsed": false
   },
   "outputs": [],
   "source": [
    "nullobject = Core()\n",
    "for item in main:\n",
    "    nullobject.AddItem(item)"
   ]
  },
  {
   "cell_type": "code",
   "execution_count": 100,
   "metadata": {
    "collapsed": false,
    "scrolled": true
   },
   "outputs": [
    {
     "name": "stdout",
     "output_type": "stream",
     "text": [
      "None:0\n",
      "----A:5\n",
      "--------C:2\n",
      "------------E:1\n",
      "----------------H:1\n",
      "------------F:1\n",
      "----------------H:1\n",
      "--------B:1\n",
      "------------C:1\n",
      "----------------F:1\n",
      "--------------------H:1\n",
      "--------E:2\n",
      "------------G:1\n",
      "------------F:1\n",
      "----C:1\n",
      "--------E:1\n",
      "------------F:1\n",
      "----------------H:1\n",
      "----B:4\n",
      "--------C:1\n",
      "------------D:1\n",
      "----------------E:1\n",
      "--------------------F:1\n",
      "--------E:1\n",
      "------------H:1\n",
      "--------D:2\n",
      "------------H:1\n",
      "------------E:1\n"
     ]
    }
   ],
   "source": [
    "nullobject.printeverything()"
   ]
  }
 ],
 "metadata": {
  "kernelspec": {
   "display_name": "Python 2",
   "language": "python",
   "name": "python2"
  },
  "language_info": {
   "codemirror_mode": {
    "name": "ipython",
    "version": 2
   },
   "file_extension": ".py",
   "mimetype": "text/x-python",
   "name": "python",
   "nbconvert_exporter": "python",
   "pygments_lexer": "ipython2",
   "version": "2.7.10"
  }
 },
 "nbformat": 4,
 "nbformat_minor": 0
}
