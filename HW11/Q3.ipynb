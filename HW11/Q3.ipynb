{
 "cells": [
  {
   "cell_type": "code",
   "execution_count": 1,
   "metadata": {
    "collapsed": true
   },
   "outputs": [],
   "source": [
    "import pandas as pd\n",
    "import numpy as np\n",
    "#%matplotlib inline\n",
    "import matplotlib.pyplot as plt\n",
    "from IPython.display import display, HTML\n",
    "from mpl_toolkits.mplot3d import Axes3D\n",
    "from matplotlib import cm\n",
    "from operator import attrgetter\n",
    "from matplotlib.patches import Ellipse\n",
    "from math import atan2,degrees\n",
    "import numpy.random as rnd"
   ]
  },
  {
   "cell_type": "code",
   "execution_count": 2,
   "metadata": {
    "collapsed": true
   },
   "outputs": [],
   "source": [
    "points = pd.read_csv('Clustering.csv',sep=',')"
   ]
  },
  {
   "cell_type": "code",
   "execution_count": 3,
   "metadata": {
    "collapsed": true
   },
   "outputs": [],
   "source": [
    "class CenterValue:\n",
    "    def __init__ (self,p,val,lab):\n",
    "        self.value=val\n",
    "        self.point=p\n",
    "        self.label=lab\n",
    "    def __str__(self):\n",
    "        return 'point:{},Value:{},index:{}'.format(self.point,self.value,self.label)"
   ]
  },
  {
   "cell_type": "code",
   "execution_count": 4,
   "metadata": {
    "collapsed": true
   },
   "outputs": [],
   "source": [
    "def Distance(p1,p2indx):\n",
    "    p1 = np.array(p1)\n",
    "    p2 = np.array((points.X[p2indx],points.Y[p2indx]))\n",
    "    return np.linalg.norm(p1-p2)"
   ]
  },
  {
   "cell_type": "code",
   "execution_count": 5,
   "metadata": {
    "collapsed": true
   },
   "outputs": [],
   "source": [
    "def K_mean(centerpoints):\n",
    "    centers={}\n",
    "    for i in centerpoints:\n",
    "        centers[i]=[]\n",
    "    for i in range(len(points.index)):\n",
    "        values=[]\n",
    "        values.append(CenterValue(centerpoints[0],Distance(centerpoints[0],i),i))\n",
    "        values.append(CenterValue(centerpoints[1],Distance(centerpoints[1],i),i))\n",
    "        values.append(CenterValue(centerpoints[2],Distance(centerpoints[2],i),i))\n",
    "        values.append(CenterValue(centerpoints[3],Distance(centerpoints[3],i),i))\n",
    "        values.sort(key=lambda x: x.value, reverse=False)\n",
    "        centers[values[0].point].append(GetPointsList([i])[0])\n",
    "    return centers     "
   ]
  },
  {
   "cell_type": "code",
   "execution_count": 6,
   "metadata": {
    "collapsed": false
   },
   "outputs": [],
   "source": [
    "def GetPointsList(Indexs):\n",
    "    lst=[]\n",
    "    for i in Indexs:\n",
    "        lst.append((points.X[i],points.Y[i]))\n",
    "    return lst"
   ]
  },
  {
   "cell_type": "code",
   "execution_count": 7,
   "metadata": {
    "collapsed": false
   },
   "outputs": [],
   "source": [
    "def Get_Means(dictionary_of_lists):\n",
    "    lst=[]\n",
    "    for i in dictionary_of_lists.keys():\n",
    "        mX=0\n",
    "        mY=0\n",
    "        for p in dictionary_of_lists[i]:\n",
    "            mX+=p[0]\n",
    "            mY+=p[1]\n",
    "        lst.append((mX/len(dictionary_of_lists[i]),mY/len(dictionary_of_lists[i])))\n",
    "    return lst"
   ]
  },
  {
   "cell_type": "code",
   "execution_count": 19,
   "metadata": {
    "collapsed": false
   },
   "outputs": [],
   "source": [
    "def Plot(k):\n",
    "    keys = k.keys()\n",
    "    fig = plt.figure(0)\n",
    "    ax = fig.add_subplot(111, aspect='equal')\n",
    "    ax.plot([t[0] for t in k[keys[0]]], [t[1] for t in k[keys[0]]], 'rs')\n",
    "    ax.plot([t[0] for t in k[keys[1]]], [t[1] for t in k[keys[1]]], 'bs')\n",
    "    ax.plot([t[0] for t in k[keys[2]]], [t[1] for t in k[keys[2]]], 'gs')\n",
    "    ax.plot([t[0] for t in k[keys[3]]], [t[1] for t in k[keys[3]]], 'ms')\n",
    "    for k in keys:\n",
    "        ax.plot(k[0],k[1],'k*')\n",
    "        ax.annotate('Cntr',(k[0],k[1]))\n",
    "    ax.axis([0, 10, 0,10])\n",
    "    plt.show()"
   ]
  },
  {
   "cell_type": "code",
   "execution_count": 21,
   "metadata": {
    "collapsed": false
   },
   "outputs": [],
   "source": [
    "#First Iteration\n",
    "k = K_mean(GetPointsList(range(4)))\n",
    "Plot(k)"
   ]
  },
  {
   "cell_type": "code",
   "execution_count": 29,
   "metadata": {
    "collapsed": false
   },
   "outputs": [],
   "source": [
    "#Each Time new Iteration\n",
    "k = Get_Means(k)\n",
    "k = K_mean(k)\n",
    "Plot(k)"
   ]
  },
  {
   "cell_type": "code",
   "execution_count": 193,
   "metadata": {
    "collapsed": false
   },
   "outputs": [
    {
     "data": {
      "image/png": "[encoded data removed]",
      "text/plain": [
       "<matplotlib.figure.Figure at 0x7f33aa4cd750>"
      ]
     },
     "metadata": {},
     "output_type": "display_data"
    }
   ],
   "source": []
  },
  {
   "cell_type": "code",
   "execution_count": 181,
   "metadata": {
    "collapsed": true
   },
   "outputs": [],
   "source": [
    "?plt.plot"
   ]
  },
  {
   "cell_type": "code",
   "execution_count": 10,
   "metadata": {
    "collapsed": true
   },
   "outputs": [],
   "source": [
    "?plt.Annotation"
   ]
  },
  {
   "cell_type": "code",
   "execution_count": 12,
   "metadata": {
    "collapsed": false
   },
   "outputs": [
    {
     "name": "stdout",
     "output_type": "stream",
     "text": [
      "<type 'int'> <type 'int'>\n",
      "<type 'int'> <type 'int'>\n",
      "<type 'int'> <type 'int'>\n",
      "<type 'int'> <type 'int'>\n",
      "<type 'int'> <type 'int'>\n",
      "<type 'int'> <type 'int'>\n",
      "<type 'int'> <type 'int'>\n",
      "<type 'int'> <type 'int'>\n",
      "<type 'int'> <type 'int'>\n",
      "<type 'int'> <type 'int'>\n"
     ]
    }
   ],
   "source": [
    "for i, txt in enumerate(range(10)):\n",
    "    print type(i),type(txt)"
   ]
  },
  {
   "cell_type": "code",
   "execution_count": null,
   "metadata": {
    "collapsed": true
   },
   "outputs": [],
   "source": []
  }
 ],
 "metadata": {
  "kernelspec": {
   "display_name": "Python 2",
   "language": "python",
   "name": "python2"
  },
  "language_info": {
   "codemirror_mode": {
    "name": "ipython",
    "version": 2
   },
   "file_extension": ".py",
   "mimetype": "text/x-python",
   "name": "python",
   "nbconvert_exporter": "python",
   "pygments_lexer": "ipython2",
   "version": "2.7.11+"
  }
 },
 "nbformat": 4,
 "nbformat_minor": 0
}
