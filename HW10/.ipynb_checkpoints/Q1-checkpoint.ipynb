{
 "cells": [
  {
   "cell_type": "markdown",
   "metadata": {},
   "source": [
    "#Question 1"
   ]
  },
  {
   "cell_type": "code",
   "execution_count": 3,
   "metadata": {
    "collapsed": true
   },
   "outputs": [],
   "source": [
    "import numpy as np\n",
    "import matplotlib.pyplot as plt"
   ]
  },
  {
   "cell_type": "code",
   "execution_count": 4,
   "metadata": {
    "collapsed": false
   },
   "outputs": [],
   "source": [
    "points = [(9,3,1),(2,4,1),(3,3,1),(4,1,1),(1,6,1),(3,9,0),(5,6,0),(6,4,0),(6,2,0),(3,7,0)]"
   ]
  },
  {
   "cell_type": "code",
   "execution_count": 13,
   "metadata": {
    "collapsed": false
   },
   "outputs": [],
   "source": [
    "t = plt.figure('roc1.jpg')\n",
    "plt.plot([x[0] for x in points],[x[1] for x in points],'bo')\n",
    "plt.plot([3,4],[5,6],'rv')\n",
    "plt.ylabel('Y')\n",
    "plt.xlabel('X')\n",
    "plt.title('Roc1')\n",
    "plt.show()"
   ]
  },
  {
   "cell_type": "code",
   "execution_count": 41,
   "metadata": {
    "collapsed": false
   },
   "outputs": [],
   "source": [
    "def GetInCirclePoints(distances,k=1):\n",
    "    "
   ]
  },
  {
   "cell_type": "code",
   "execution_count": 82,
   "metadata": {
    "collapsed": false
   },
   "outputs": [],
   "source": [
    "def GetClosePoints(centerpoint,k=1):\n",
    "    indx =0\n",
    "    distances={}\n",
    "    for point in points:\n",
    "        #Calculate Eucludean distance\n",
    "        distance = np.linalg.norm(np.array(centerpoint)-np.array((point[0],point[1])))\n",
    "        #Store all points with the same distance under the same \n",
    "        if distance in distances.keys():\n",
    "            distances[distance].append(indx)\n",
    "        else:\n",
    "            distances[distance] = []\n",
    "            distances[distance].append(indx)\n",
    "        indx+=1\n",
    "    keys = distances.keys()\n",
    "    keys.sort(key = lambda x:x,reverse=False)\n",
    "    for key in keys:\n",
    "        print key , distances[key]"
   ]
  },
  {
   "cell_type": "code",
   "execution_count": 83,
   "metadata": {
    "collapsed": false
   },
   "outputs": [],
   "source": [
    "#np.linalg.norm(np.array((5,2))-np.array((3,1)))\n",
    "p1 = (3,5)\n",
    "p2 = (4,6)"
   ]
  },
  {
   "cell_type": "code",
   "execution_count": 84,
   "metadata": {
    "collapsed": false
   },
   "outputs": [
    {
     "name": "stdout",
     "output_type": "stream",
     "text": [
      "0 6.32455532034\n",
      "1 1.41421356237\n",
      "2 2.0\n",
      "3 4.12310562562\n",
      "4 2.2360679775\n",
      "5 4.0\n",
      "6 2.2360679775\n",
      "7 3.16227766017\n",
      "8 4.24264068712\n",
      "9 2.0\n",
      "1.41421356237 [1]\n",
      "2.0 [2, 9]\n",
      "2.2360679775 [4, 6]\n",
      "3.16227766017 [7]\n",
      "4.0 [5]\n",
      "4.12310562562 [3]\n",
      "4.24264068712 [8]\n",
      "6.32455532034 [0]\n"
     ]
    }
   ],
   "source": [
    "GetClosePoints(p1)"
   ]
  },
  {
   "cell_type": "code",
   "execution_count": null,
   "metadata": {
    "collapsed": true
   },
   "outputs": [],
   "source": []
  }
 ],
 "metadata": {
  "kernelspec": {
   "display_name": "Python 2",
   "language": "python",
   "name": "python2"
  },
  "language_info": {
   "codemirror_mode": {
    "name": "ipython",
    "version": 2
   },
   "file_extension": ".py",
   "mimetype": "text/x-python",
   "name": "python",
   "nbconvert_exporter": "python",
   "pygments_lexer": "ipython2",
   "version": "2.7.10"
  }
 },
 "nbformat": 4,
 "nbformat_minor": 0
}
