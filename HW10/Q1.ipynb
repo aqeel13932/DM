{
 "cells": [
  {
   "cell_type": "markdown",
   "metadata": {},
   "source": [
    "#Question 1"
   ]
  },
  {
   "cell_type": "code",
   "execution_count": 143,
   "metadata": {
    "collapsed": true
   },
   "outputs": [],
   "source": [
    "import numpy as np\n",
    "%matplotlib inline\n",
    "import matplotlib.pyplot as plt"
   ]
  },
  {
   "cell_type": "code",
   "execution_count": 95,
   "metadata": {
    "collapsed": false
   },
   "outputs": [],
   "source": [
    "points = [(9,3,1),(2,4,1),(3,3,1),(4,1,1),(1,6,1),(3,9,0),(5,6,0),(6,4,0),(6,2,0),(3,7,0)]"
   ]
  },
  {
   "cell_type": "code",
   "execution_count": 144,
   "metadata": {
    "collapsed": false
   },
   "outputs": [
    {
     "data": {
      "image/png": "[encoded data removed]",
      "text/plain": [
       "<matplotlib.figure.Figure at 0x7fd7eec11890>"
      ]
     },
     "metadata": {},
     "output_type": "display_data"
    }
   ],
   "source": [
    "plt.figure('points.jpg')\n",
    "plt.plot([x[0] for x in points],[x[1] for x in points],'bo')\n",
    "plt.plot([3,4],[5,6],'rv')\n",
    "plt.ylabel('Y')\n",
    "plt.xlabel('X')\n",
    "plt.title('Points')\n",
    "plt.savefig('points.jpg')"
   ]
  },
  {
   "cell_type": "code",
   "execution_count": 145,
   "metadata": {
    "collapsed": false
   },
   "outputs": [],
   "source": [
    "def GetClosePoints(centerpoint,k=1):\n",
    "    indx =0\n",
    "    distances={}\n",
    "    for point in points:\n",
    "        \n",
    "        #Calculate Eucludean distance\n",
    "        distance = np.linalg.norm(np.array(centerpoint)-np.array((point[0],point[1])))\n",
    "        \n",
    "        #Store all points with the same distance under the same \n",
    "        if distance in distances.keys():\n",
    "            distances[distance].append(indx)\n",
    "        else:\n",
    "            distances[distance] = []\n",
    "            distances[distance].append(indx)\n",
    "        indx+=1\n",
    "        \n",
    "    #Sort list by distance\n",
    "    keys = distances.keys()\n",
    "    keys.sort(key = lambda x:x,reverse=False)\n",
    "    #print the list \n",
    "    #for key in keys:\n",
    "    #    print key , distances[key]\n",
    "        \n",
    "    #Get Points in K distance\n",
    "    pointindx=[]\n",
    "    for i in range (0,k):\n",
    "        for index in distances[keys[i]]:\n",
    "            pointindx.append(index)\n",
    "\n",
    "    #Print Selected Points indexs \n",
    "    #print pointindx\n",
    "    \n",
    "    #Calculate Probabilities\n",
    "    Totalpoints = len(pointindx)\n",
    "    Class0=0\n",
    "    Class1=0\n",
    "    for i in pointindx:\n",
    "        if points[i][2]:\n",
    "            Class1+=1\n",
    "        else:\n",
    "            Class0+=1\n",
    "    print 'For Point ({},{}) with K={},Probabilities is Class0={},Class1={}'.format(centerpoint[0],centerpoint[1],k,\n",
    "    Class0/float(Totalpoints),Class1/float(Totalpoints))"
   ]
  },
  {
   "cell_type": "code",
   "execution_count": 146,
   "metadata": {
    "collapsed": false
   },
   "outputs": [],
   "source": [
    "#np.linalg.norm(np.array((5,2))-np.array((3,1)))\n",
    "p1 = (3,5)\n",
    "p2 = (4,6)"
   ]
  },
  {
   "cell_type": "code",
   "execution_count": 147,
   "metadata": {
    "collapsed": false
   },
   "outputs": [
    {
     "name": "stdout",
     "output_type": "stream",
     "text": [
      "For Point (3,5) with K=1,Probabilities is Class0=0.0,Class1=1.0\n",
      "For Point (3,5) with K=2,Probabilities is Class0=0.333333333333,Class1=0.666666666667\n",
      "For Point (3,5) with K=3,Probabilities is Class0=0.4,Class1=0.6\n",
      "For Point (4,6) with K=1,Probabilities is Class0=1.0,Class1=0.0\n",
      "For Point (4,6) with K=2,Probabilities is Class0=1.0,Class1=0.0\n",
      "For Point (4,6) with K=3,Probabilities is Class0=0.75,Class1=0.25\n"
     ]
    }
   ],
   "source": [
    "GetClosePoints(p1,1)\n",
    "GetClosePoints(p1,2)\n",
    "GetClosePoints(p1,3)\n",
    "GetClosePoints(p2,1)\n",
    "GetClosePoints(p2,2)\n",
    "GetClosePoints(p2,3)"
   ]
  },
  {
   "cell_type": "code",
   "execution_count": null,
   "metadata": {
    "collapsed": true
   },
   "outputs": [],
   "source": []
  }
 ],
 "metadata": {
  "kernelspec": {
   "display_name": "Python 2",
   "language": "python",
   "name": "python2"
  },
  "language_info": {
   "codemirror_mode": {
    "name": "ipython",
    "version": 2
   },
   "file_extension": ".py",
   "mimetype": "text/x-python",
   "name": "python",
   "nbconvert_exporter": "python",
   "pygments_lexer": "ipython2",
   "version": "2.7.10"
  }
 },
 "nbformat": 4,
 "nbformat_minor": 0
}
