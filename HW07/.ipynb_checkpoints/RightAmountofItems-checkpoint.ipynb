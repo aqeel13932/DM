{
 "cells": [
  {
   "cell_type": "code",
   "execution_count": 25,
   "metadata": {
    "collapsed": true
   },
   "outputs": [],
   "source": [
    "import numpy as np"
   ]
  },
  {
   "cell_type": "code",
   "execution_count": 26,
   "metadata": {
    "collapsed": true
   },
   "outputs": [],
   "source": [
    "f = open ('supermarket.txt')\n",
    "lines = f.readlines()"
   ]
  },
  {
   "cell_type": "code",
   "execution_count": 27,
   "metadata": {
    "collapsed": false
   },
   "outputs": [],
   "source": [
    "breakpoint = 127\n",
    "t = set()\n",
    "def AddElements(line):\n",
    "    elements = line.split(\" \")\n",
    "    for element in elements:\n",
    "        t.add(element.strip())"
   ]
  },
  {
   "cell_type": "code",
   "execution_count": 28,
   "metadata": {
    "collapsed": true
   },
   "outputs": [],
   "source": [
    "np.random.shuffle(lines)\n",
    "outputfile=[]\n",
    "def WriteToFile():\n",
    "    output = open('supermarket.dat','w')\n",
    "    for l in outputfile:\n",
    "        output.write(l)"
   ]
  },
  {
   "cell_type": "code",
   "execution_count": 29,
   "metadata": {
    "collapsed": true
   },
   "outputs": [],
   "source": [
    "for line in lines:\n",
    "    outputfile.append(line)\n",
    "    AddElements(line)\n",
    "    if len(t)>breakpoint:\n",
    "        break"
   ]
  },
  {
   "cell_type": "code",
   "execution_count": 30,
   "metadata": {
    "collapsed": false,
    "scrolled": true
   },
   "outputs": [
    {
     "name": "stdout",
     "output_type": "stream",
     "text": [
      "0 15453\n",
      "1 661\n",
      "2 10349\n",
      "3 4575\n",
      "4 5509\n",
      "5 6648\n",
      "6 1834\n",
      "7 6095\n",
      "8 15361\n",
      "9 5622\n",
      "10 11668\n",
      "11 543\n",
      "12 2403\n",
      "13 2923\n",
      "14 2013\n",
      "15 7752\n",
      "16 1096\n",
      "17 2916\n",
      "18 14106\n",
      "19 4336\n",
      "20 12701\n",
      "21 3330\n",
      "22 4037\n",
      "23 9985\n",
      "24 13847\n",
      "25 9171\n",
      "26 12438\n",
      "27 5308\n",
      "28 3561\n",
      "29 11375\n",
      "30 7448\n",
      "31 7728\n",
      "32 6657\n",
      "33 299\n",
      "34 15598\n",
      "35 827\n",
      "36 7895\n",
      "37 7893\n",
      "38 9778\n",
      "39 592\n",
      "40 6606\n",
      "41 5398\n",
      "42 9091\n",
      "43 6385\n",
      "44 14456\n",
      "45 11887\n",
      "46 13599\n",
      "47 5496\n",
      "48 11567\n",
      "49 7246\n",
      "50 14754\n",
      "51 6660\n",
      "52 2384\n",
      "53 6063\n",
      "54 9788\n",
      "55 1015\n",
      "56 15589\n",
      "57 13227\n",
      "58 2265\n",
      "59 6828\n",
      "60 108\n",
      "61 7864\n",
      "62 11217\n",
      "63 10543\n",
      "64 13538\n",
      "65 2835\n",
      "66 5772\n",
      "67 9579\n",
      "68 8693\n",
      "69 12845\n",
      "70 11358\n",
      "71 1643\n",
      "72 10986\n",
      "73 5086\n",
      "74 1930\n",
      "75 385\n",
      "76 13973\n",
      "77 9123\n",
      "78 8078\n",
      "79 14039\n",
      "80 571\n",
      "81 7008\n",
      "82 5330\n",
      "83 7340\n",
      "84 9630\n",
      "85 10795\n",
      "86 11571\n",
      "87 6042\n",
      "88 15322\n",
      "89 11748\n",
      "90 12562\n",
      "91 6688\n",
      "92 3087\n",
      "93 9132\n",
      "94 5021\n",
      "95 5023\n",
      "96 11976\n",
      "97 15547\n",
      "98 11335\n",
      "99 5896\n",
      "100 6361\n",
      "101 14\n",
      "102 15315\n",
      "103 1999\n",
      "104 11148\n",
      "105 10714\n",
      "106 6193\n",
      "107 9011\n",
      "108 604\n",
      "109 9343\n",
      "110 9108\n",
      "111 748\n",
      "112 14977\n",
      "113 12545\n",
      "114 15377\n",
      "115 12541\n",
      "116 5641\n",
      "117 14155\n",
      "118 12469\n",
      "119 48\n",
      "120 1793\n",
      "121 2508\n",
      "122 12350\n",
      "123 6973\n",
      "124 3911\n",
      "125 11679\n",
      "126 4503\n",
      "127 13478\n",
      "128 13627\n",
      "129 15011\n",
      "130 1607\n",
      "131 8950\n",
      "132 7500\n"
     ]
    }
   ],
   "source": [
    "r = 0 \n",
    "for i in t:\n",
    "    print r, i\n",
    "    r+=1"
   ]
  },
  {
   "cell_type": "code",
   "execution_count": 31,
   "metadata": {
    "collapsed": true
   },
   "outputs": [],
   "source": [
    "WriteToFile()"
   ]
  }
 ],
 "metadata": {
  "kernelspec": {
   "display_name": "Python 2",
   "language": "python",
   "name": "python2"
  },
  "language_info": {
   "codemirror_mode": {
    "name": "ipython",
    "version": 2
   },
   "file_extension": ".py",
   "mimetype": "text/x-python",
   "name": "python",
   "nbconvert_exporter": "python",
   "pygments_lexer": "ipython2",
   "version": "2.7.10"
  }
 },
 "nbformat": 4,
 "nbformat_minor": 0
}
