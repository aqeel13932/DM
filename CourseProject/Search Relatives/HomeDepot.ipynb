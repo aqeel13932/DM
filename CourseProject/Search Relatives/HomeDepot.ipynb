{
 "cells": [
  {
   "cell_type": "code",
   "execution_count": 1,
   "metadata": {
    "collapsed": false
   },
   "outputs": [
    {
     "name": "stderr",
     "output_type": "stream",
     "text": [
      "Using Theano backend.\n",
      "/usr/local/lib/python2.7/dist-packages/theano/tensor/signal/downsample.py:6: UserWarning: downsample module has been moved to the theano.tensor.signal.pool module.\n",
      "  \"downsample module has been moved to the theano.tensor.signal.pool module.\")\n"
     ]
    }
   ],
   "source": [
    "'''Trains two recurrent neural networks based upon a story and a question.\n",
    "The resulting merged vector is then queried to answer a range of bAbI tasks.\n",
    "The results are comparable to those for an LSTM model provided in Weston et al.:\n",
    "\"Towards AI-Complete Question Answering: A Set of Prerequisite Toy Tasks\"\n",
    "http://arxiv.org/abs/1502.05698\n",
    "Task Number                  | FB LSTM Baseline | Keras QA\n",
    "---                          | ---              | ---\n",
    "QA1 - Single Supporting Fact | 50               | 100.0\n",
    "QA2 - Two Supporting Facts   | 20               | 50.0\n",
    "QA3 - Three Supporting Facts | 20               | 20.5\n",
    "QA4 - Two Arg. Relatimport numpy as np\n",
    "import random\n",
    "from math import floor\n",
    "np.random.seed(1337)  # for reproducibility\n",
    "\n",
    "#from keras.utils.data_utils import get_file\n",
    "#from keras.datasets.data_utils import get_file\n",
    "from keras.layers.embeddings import Embedding\n",
    "from keras.layers.core import Dense, Merge, Dropout, RepeatVector,MaxoutDense,Activation\n",
    "from keras.layers import recurrent\n",
    "from keras.models import Sequential\n",
    "from keras.preprocessing.sequence import pad_sequences\n",
    "import csvions     | 61               | 62.9\n",
    "QA5 - Three Arg. Relations   | 70               | 61.9\n",
    "QA6 - Yes/No Questions       | 48               | 50.7\n",
    "QA7 - Counting               | 49               | 78.9\n",
    "QA8 - Lists/Sets             | 45               | 77.2\n",
    "QA9 - Simple Negation        | 64               | 64.0\n",
    "QA10 - Indefinite Knowledge  | 44               | 47.7\n",
    "QA11 - Basic Coreference     | 72               | 74.9\n",
    "QA12 - Conjunction           | 74               | 76.4\n",
    "QA13 - Compound Coreference  | 94               | 94.4\n",
    "QA14 - Time Reasoning        | 27               | 34.8\n",
    "QA15 - Basic Deduction       | 21               | 32.4\n",
    "QA16 - Basic Induction       | 23               | 50.6\n",
    "QA17 - Positional Reasoning  | 51               | 49.1\n",
    "QA18 - Size Reasoning        | 52               | 90.8\n",
    "QA19 - Path Finding          | 8                | 9.0\n",
    "QA20 - Agent's Motivations   | 91               | 90.7\n",
    "For the resources related to the bAbI project, refer to:\n",
    "https://research.facebook.com/researchers/1543934539189348\n",
    "Notes:\n",
    "- With default word, sentence, and query vector sizes, the GRU model achieves:\n",
    "  - 100% test accuracy on QA1 in 20 epochs (2 seconds per epoch on CPU)\n",
    "  - 50% test accuracy on QA2 in 20 epochs (16 seconds per epoch on CPU)\n",
    "In comparison, the Facebook paper achieves 50% and 20% for the LSTM baseline.\n",
    "- The task does not traditionally parse the question separately. This likely\n",
    "improves accuracy and is a good example of merging two RNNs.\n",
    "- The word vector embeddings are not shared between the story and question RNNs.\n",
    "- See how the accuracy changes given 10,000 training samples (en-10k) instead\n",
    "of only 1000. 1000 was used in order to be comparable to the original paper.\n",
    "- Experiment with GRU, LSTM, and JZS1-3 as they give subtly different results.\n",
    "- The length and noise (i.e. 'useless' story components) impact the ability for\n",
    "LSTMs / GRUs to provide the correct answer. Given only the supporting facts,\n",
    "these RNNs can achieve 100% accuracy on many tasks. Memory networks and neural\n",
    "networks that use attentional processes can efficiently search through this\n",
    "noise to find the relevant statements, improving performance substantially.\n",
    "This becomes especially obvious on QA2 and QA3, both far longer than QA1.\n",
    "'''\n",
    "#from __future__ import print_function\n",
    "#from functools import reduce\n",
    "#import re\n",
    "#import tarfile\n",
    "\n",
    "import numpy as np\n",
    "import random\n",
    "from math import floor\n",
    "np.random.seed(1337)  # for reproducibility\n",
    "\n",
    "#from keras.utils.data_utils import get_file\n",
    "#from keras.datasets.data_utils import get_file\n",
    "from keras.layers.embeddings import Embedding\n",
    "from keras.layers.core import Dense, Merge, Dropout, RepeatVector,MaxoutDense,Activation\n",
    "from keras.layers import recurrent\n",
    "from keras.models import Sequential\n",
    "from keras.preprocessing.sequence import pad_sequences\n",
    "import csv"
   ]
  },
  {
   "cell_type": "code",
   "execution_count": 2,
   "metadata": {
    "collapsed": true
   },
   "outputs": [],
   "source": [
    "with open ('train.csv') as source:\n",
    "    spam = csv.DictReader(source)\n",
    "    trainset = list(spam)"
   ]
  },
  {
   "cell_type": "code",
   "execution_count": 3,
   "metadata": {
    "collapsed": true
   },
   "outputs": [],
   "source": [
    "def getData(splitper):\n",
    "    random.shuffle(trainset)\n",
    "    splitper = int(floor(splitper * len(trainset)) + 1)\n",
    "    #get The Informations\n",
    "    traininglst = trainset[splitper:]\n",
    "    testinglst = trainset[:splitper]\n",
    "    train_X=[]\n",
    "    train_Xt=[]\n",
    "    train_Y=[]\n",
    "    test_X=[]\n",
    "    test_Xt =[]\n",
    "    test_Y=[]\n",
    "    for element in traininglst:\n",
    "        train_X.append(element['search_term'].split())\n",
    "        train_Xt.append(element['product_title'].split())\n",
    "        train_Y.append(float(element['relevance']))\n",
    "    for element in testinglst:\n",
    "        test_X.append(element['search_term'].split())\n",
    "        test_Xt.append(element['product_title'].split())\n",
    "        test_Y.append(float(element['relevance']))\n",
    "    \n",
    "    \n",
    "    return (train_X,train_Xt,train_Y,test_X,test_Xt,test_Y)"
   ]
  },
  {
   "cell_type": "code",
   "execution_count": 4,
   "metadata": {
    "collapsed": false
   },
   "outputs": [],
   "source": [
    "(train_X,train_Xt,train_Y,test_X,test_Xt,test_Y)= getData(0.2)"
   ]
  },
  {
   "cell_type": "code",
   "execution_count": 5,
   "metadata": {
    "collapsed": false
   },
   "outputs": [],
   "source": [
    "ST_MAX_LENGTH = max(map(len, (x for x in train_X + test_X)))\n",
    "PN_MAX_LENGTH = max(map(len, (x for x in train_Xt + test_Xt)))"
   ]
  },
  {
   "cell_type": "code",
   "execution_count": 6,
   "metadata": {
    "collapsed": false
   },
   "outputs": [
    {
     "name": "stdout",
     "output_type": "stream",
     "text": [
      "All Vocabulary , May take 3-5 minutes\n"
     ]
    }
   ],
   "source": [
    "print 'All Vocabulary , May take 3-5 minutes'\n",
    "All_Vocabulary = sorted(reduce(lambda x, y: x | y, (set(vocab) for vocab in train_X+test_X+train_Xt+\n",
    "                                                    test_Xt)))'"
   ]
  },
  {
   "cell_type": "code",
   "execution_count": 7,
   "metadata": {
    "collapsed": false
   },
   "outputs": [],
   "source": [
    "vocab_size = len(All_Vocabulary)+1\n",
    "word_idx = dict((c, i + 1) for i, c in enumerate(All_Vocabulary))"
   ]
  },
  {
   "cell_type": "code",
   "execution_count": 8,
   "metadata": {
    "collapsed": false,
    "scrolled": true
   },
   "outputs": [],
   "source": [
    "def Vectorize():\n",
    "    global train_X,train_Xt,train_Y,test_X,test_Xt,test_Y\n",
    "    for i in range (0,len(train_X)):\n",
    "        train_X[i] = [word_idx[l] for l in train_X[i]]\n",
    "    train_X= pad_sequences(train_X,ST_MAX_LENGTH)\n",
    "    for i in range (0,len(train_Xt)):\n",
    "        train_Xt[i] = [word_idx[l] for l in train_Xt[i]]\n",
    "    train_Xt =pad_sequences(train_Xt,PN_MAX_LENGTH)\n",
    "    for i in range (0,len(test_X)):\n",
    "        test_X[i] = [word_idx[l] for l in test_X[i]]\n",
    "    test_X= pad_sequences(test_X,ST_MAX_LENGTH)\n",
    "    for i in range (0,len(test_Xt)):\n",
    "        test_Xt[i] = [word_idx[l] for l in test_Xt[i]]\n",
    "    test_Xt = pad_sequences(test_Xt,PN_MAX_LENGTH)\n",
    "    train_Y = np.array(train_Y)\n",
    "    test_Y = np.array(test_Y)"
   ]
  },
  {
   "cell_type": "code",
   "execution_count": 9,
   "metadata": {
    "collapsed": false
   },
   "outputs": [],
   "source": [
    "Vectorize()"
   ]
  },
  {
   "cell_type": "code",
   "execution_count": 10,
   "metadata": {
    "collapsed": false
   },
   "outputs": [
    {
     "name": "stdout",
     "output_type": "stream",
     "text": [
      "All Vocabulary  = 36954\n",
      "Train X.shape = (59253, 14),Test X.shape(14814, 14)\n",
      "Train Xt.shape = (59253, 35),Test Xt.shape(14814, 35)\n",
      "Train_Y.shape = (59253,),Test_Y.shape(14814,)\n",
      "ST_MAX_LENGTH, PN_MAX_LENGTH = 14, 35\n"
     ]
    }
   ],
   "source": [
    "print('All Vocabulary  = {}'.format(vocab_size))\n",
    "print('Train X.shape = {},Test X.shape{}'.format(train_X.shape,test_X.shape))\n",
    "print('Train Xt.shape = {},Test Xt.shape{}'.format(train_Xt.shape,test_Xt.shape))\n",
    "print('Train_Y.shape = {},Test_Y.shape{}'.format(train_Y.shape,test_Y.shape))\n",
    "print('ST_MAX_LENGTH, PN_MAX_LENGTH = {}, {}'.format(ST_MAX_LENGTH, PN_MAX_LENGTH))"
   ]
  },
  {
   "cell_type": "code",
   "execution_count": 25,
   "metadata": {
    "collapsed": false
   },
   "outputs": [],
   "source": [
    "RNN = recurrent.LSTM\n",
    "EMBED_HIDDEN_SIZE = 50\n",
    "SENT_HIDDEN_SIZE = 100\n",
    "QUERY_HIDDEN_SIZE = 100\n",
    "BATCH_SIZE = 32\n",
    "EPOCHS = 2"
   ]
  },
  {
   "cell_type": "code",
   "execution_count": 12,
   "metadata": {
    "collapsed": false
   },
   "outputs": [
    {
     "data": {
      "text/plain": [
       "array([ 1.67,  3.  ,  1.67,  3.  ,  2.  ,  2.67,  2.67,  3.  ,  3.  ,  3.  ])"
      ]
     },
     "execution_count": 12,
     "metadata": {},
     "output_type": "execute_result"
    }
   ],
   "source": [
    "train_Y[0:10]"
   ]
  },
  {
   "cell_type": "markdown",
   "metadata": {},
   "source": [
    "You could run one recurrent layer over product title and another one over search term. Then merge the resulting vectors together and use linear layer to predict the relevance. The closest thing I can suggest is the question answering example in Keras:\n",
    "https://github.com/fchollet/keras/blob/master/examples/babi_rnn.py\n",
    "\n",
    "They have a sentence and question, and they predict answer. You have product title and search term, and trying to predict relevance. They use softmax and cross-entropy loss for prediction. Your case is simpler, because you predict just one number, you can use just linear layer and squared error loss.\n",
    "\n",
    "  Tambet \n",
    "\n",
    "1. sentrnn is missing the RNN layer. RNN layer should have return_sequences=False.\n",
    "2. qrnn is missing the mask_zero, this is useful when you are padding your sequences with zeros.\n",
    "3. In Merge layer I would use mode='concat'.\n",
    "4. The last Dense layer should have just 1 output and loss function should be mean_squared_error.\n",
    "\n",
    "I'm not sure if these fix your error, but they are necessary to create the model the way I intended.\n",
    "\n",
    "  Tambet \n",
    "\n",
    "This seems to be the main error: \"Cast bool to uint8 is not supported\". What are your targets, one-hot vectors? Then maybe softmax loss was actually reasonable. And some people say, that softmax tends to converge better than mse. Also check, if converting targets to int-s, instead of bool-s, works better.\n",
    "\n",
    "  Tambet "
   ]
  },
  {
   "cell_type": "code",
   "execution_count": 13,
   "metadata": {
    "collapsed": false
   },
   "outputs": [
    {
     "name": "stdout",
     "output_type": "stream",
     "text": [
      "Build model...\n"
     ]
    }
   ],
   "source": [
    "\n",
    "print('Build model...')\n",
    "\n",
    "sentrnn = Sequential()\n",
    "sentrnn.add(Embedding(vocab_size, EMBED_HIDDEN_SIZE, input_length=ST_MAX_LENGTH, mask_zero=True))\n",
    "sentrnn.add(Dropout(0.3))\n",
    "sentrnn.add(RNN(EMBED_HIDDEN_SIZE, return_sequences=False))\n",
    "\n",
    "qrnn = Sequential()\n",
    "qrnn.add(Embedding(vocab_size, EMBED_HIDDEN_SIZE, input_length=PN_MAX_LENGTH,mask_zero=True))\n",
    "qrnn.add(Dropout(0.3))\n",
    "qrnn.add(RNN(EMBED_HIDDEN_SIZE, return_sequences=False))\n"
   ]
  },
  {
   "cell_type": "code",
   "execution_count": 14,
   "metadata": {
    "collapsed": false,
    "scrolled": true
   },
   "outputs": [
    {
     "name": "stdout",
     "output_type": "stream",
     "text": [
      "(None, 50)\n",
      "(None, 50)\n",
      "(None, 100)\n"
     ]
    }
   ],
   "source": [
    "print sentrnn.output_shape\n",
    "print qrnn.output_shape\n",
    "m = Merge([sentrnn, qrnn], mode='concat')\n",
    "print m.output_shape\n",
    "#m.set_input_shape((None,100))"
   ]
  },
  {
   "cell_type": "code",
   "execution_count": 22,
   "metadata": {
    "collapsed": false,
    "scrolled": true
   },
   "outputs": [],
   "source": [
    "model = Sequential()\n",
    "model.add(m)\n",
    "model.add(Dense(10))\n",
    "model.add(Dropout(0.3))\n",
    "#orignial code#\n",
    "model.add(Dense(output_dim=1))\n",
    "#model.compile(optimizer='adam', loss='mean_squared_error')\n",
    "### New Try\n",
    "#model.add(Dense(output_dim=1,activati))\n",
    "\n",
    "model.compile(loss='mse', optimizer='rmsprop')\n",
    "#model.summary()"
   ]
  },
  {
   "cell_type": "code",
   "execution_count": 17,
   "metadata": {
    "collapsed": false
   },
   "outputs": [
    {
     "name": "stdout",
     "output_type": "stream",
     "text": [
      "[    0     0     0     0     0     0     0     0     0     0     0 33991\n",
      " 30847  7239]\n",
      "[    0     0     0     0     0     0     0     0     0     0     0     0\n",
      "     0     0     0     0     0     0     0     0     0     0 21111 12103\n",
      " 22868 17984 14471 17315  9569  3283 32660 36864  7929 32660   872]\n",
      "1.67\n"
     ]
    }
   ],
   "source": [
    "print train_X[0]\n",
    "print train_Xt[0]\n",
    "print train_Y[0]"
   ]
  },
  {
   "cell_type": "code",
   "execution_count": 26,
   "metadata": {
    "collapsed": false,
    "scrolled": true
   },
   "outputs": [
    {
     "name": "stdout",
     "output_type": "stream",
     "text": [
      "Training\n",
      "Train on 56290 samples, validate on 2963 samples\n",
      "Epoch 1/2\n",
      "56290/56290 [==============================] - 201s - loss: 0.3902 - acc: 1.0000 - val_loss: 0.3925 - val_acc: 1.0000\n",
      "Epoch 2/2\n",
      "56290/56290 [==============================] - 210s - loss: 0.2863 - acc: 1.0000 - val_loss: 0.2576 - val_acc: 1.0000\n",
      "14814/14814 [==============================] - 5s     \n",
      "Test loss / test accuracy = 0.2537 / 1.0000\n"
     ]
    }
   ],
   "source": [
    "print('Training')\n",
    "model.fit([train_X, train_Xt], train_Y, batch_size=BATCH_SIZE, nb_epoch=EPOCHS, validation_split=0.05, show_accuracy=True)\n",
    "loss, acc = model.evaluate([test_X, test_Xt], test_Y, batch_size=BATCH_SIZE, show_accuracy=True)\n",
    "print('Test loss / test accuracy = {:.4f} / {:.4f}'.format(loss, acc))"
   ]
  }
 ],
 "metadata": {
  "kernelspec": {
   "display_name": "Python 2",
   "language": "python",
   "name": "python2"
  },
  "language_info": {
   "codemirror_mode": {
    "name": "ipython",
    "version": 2
   },
   "file_extension": ".py",
   "mimetype": "text/x-python",
   "name": "python",
   "nbconvert_exporter": "python",
   "pygments_lexer": "ipython2",
   "version": "2.7.10"
  }
 },
 "nbformat": 4,
 "nbformat_minor": 0
}
