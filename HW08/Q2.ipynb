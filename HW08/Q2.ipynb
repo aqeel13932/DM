{
 "cells": [
  {
   "cell_type": "code",
   "execution_count": 3,
   "metadata": {
    "collapsed": true
   },
   "outputs": [],
   "source": [
    "import csv"
   ]
  },
  {
   "cell_type": "code",
   "execution_count": 5,
   "metadata": {
    "collapsed": false
   },
   "outputs": [],
   "source": [
    "with open('data.csv') as f:\n",
    "    spam = csv.DictReader(f)\n",
    "    trainset = list(spam)"
   ]
  },
  {
   "cell_type": "code",
   "execution_count": 12,
   "metadata": {
    "collapsed": false
   },
   "outputs": [],
   "source": [
    "trainset  = sorted(trainset, key=lambda k: k['Play']) "
   ]
  },
  {
   "cell_type": "code",
   "execution_count": 15,
   "metadata": {
    "collapsed": false
   },
   "outputs": [
    {
     "data": {
      "text/plain": [
       "15"
      ]
     },
     "execution_count": 15,
     "metadata": {},
     "output_type": "execute_result"
    }
   ],
   "source": [
    "len(trainset)"
   ]
  },
  {
   "cell_type": "code",
   "execution_count": 52,
   "metadata": {
    "collapsed": false
   },
   "outputs": [],
   "source": [
    "class v:\n",
    "    def __init__(self):\n",
    "        self.lst={}\n",
    "        \n",
    "    def AddItem(self,values):\n",
    "        \n",
    "        if len(values)<=0:\n",
    "            return\n",
    "        print values[0]\n",
    "        if values[0] in self.lst.keys():\n",
    "            self.lst[values[0]].AddItem(values[1:])\n",
    "        else:\n",
    "            self.lst[values[0]]= v()\n",
    "            self.lst[values[0]].AddItem(values[1:])\n",
    "    def printeverything(self,level=0):\n",
    "        #print \n",
    "        for itm in self.lst.keys():\n",
    "            thespace = '----'*level\n",
    "            print(thespace+itm)\n",
    "            self.lst[itm].printeverything(level=level+1)"
   ]
  },
  {
   "cell_type": "code",
   "execution_count": 55,
   "metadata": {
    "collapsed": true
   },
   "outputs": [],
   "source": [
    "class Core:\n",
    "    def __init__(self,name=None,occurence=0):\n",
    "        self.name = name\n",
    "        self.occurence =occurence\n",
    "        self.sons={}\n",
    "    def AddItem(self,items):\n",
    "        if len(items)<=0:\n",
    "            return\n",
    "        if items[0] in self.sons.keys():\n",
    "            self.sons[items[0]].occurence+=1\n",
    "            self.sons[items[0]].AddItem(items[1:])\n",
    "        else:\n",
    "            self.sons[items[0]] = Core(name=items[0],occurence=1)\n",
    "            self.sons[items[0]].AddItem(items[1:])\n",
    "    def printeverything(self,level=0):\n",
    "        #print \n",
    "        thespace = '----'*level\n",
    "        print(thespace+str(self.name)+':'+str(self.occurence))\n",
    "        for itm in self.sons.keys():\n",
    "            self.sons[itm].printeverything(level=level+1)"
   ]
  },
  {
   "cell_type": "code",
   "execution_count": 56,
   "metadata": {
    "collapsed": false,
    "scrolled": true
   },
   "outputs": [],
   "source": [
    "root = Core()\n",
    "for i in trainset:\n",
    "    root.AddItem((i['Outlook'],i['Temp'],i['Humidity'],i['Windy'],i['Play']))"
   ]
  },
  {
   "cell_type": "code",
   "execution_count": 57,
   "metadata": {
    "collapsed": false
   },
   "outputs": [
    {
     "name": "stdout",
     "output_type": "stream",
     "text": [
      "None:0\n",
      "----Rainy:5\n",
      "--------Mild:3\n",
      "------------High:2\n",
      "----------------FALSE:1\n",
      "--------------------Yes:1\n",
      "----------------TRUE:1\n",
      "--------------------No:1\n",
      "------------Normal:1\n",
      "----------------FALSE:1\n",
      "--------------------Yes:1\n",
      "--------Cool:2\n",
      "------------Normal:2\n",
      "----------------FALSE:1\n",
      "--------------------Yes:1\n",
      "----------------TRUE:1\n",
      "--------------------No:1\n",
      "----Overcast:5\n",
      "--------Hot:2\n",
      "------------High:1\n",
      "----------------FALSE:1\n",
      "--------------------Yes:1\n",
      "------------Normal:1\n",
      "----------------FALSE:1\n",
      "--------------------Yes:1\n",
      "--------Mild:1\n",
      "------------High:1\n",
      "----------------TRUE:1\n",
      "--------------------Yes:1\n",
      "--------Cool:2\n",
      "------------High:1\n",
      "----------------FALSE:1\n",
      "--------------------No:1\n",
      "------------Normal:1\n",
      "----------------TRUE:1\n",
      "--------------------Yes:1\n",
      "----Sunny:5\n",
      "--------Hot:2\n",
      "------------High:2\n",
      "----------------TRUE:1\n",
      "--------------------No:1\n",
      "----------------FALSE:1\n",
      "--------------------No:1\n",
      "--------Mild:2\n",
      "------------High:1\n",
      "----------------FALSE:1\n",
      "--------------------No:1\n",
      "------------Normal:1\n",
      "----------------TRUE:1\n",
      "--------------------Yes:1\n",
      "--------Cool:1\n",
      "------------Normal:1\n",
      "----------------FALSE:1\n",
      "--------------------Yes:1\n"
     ]
    }
   ],
   "source": [
    "root.printeverything()"
   ]
  },
  {
   "cell_type": "code",
   "execution_count": null,
   "metadata": {
    "collapsed": true
   },
   "outputs": [],
   "source": []
  }
 ],
 "metadata": {
  "kernelspec": {
   "display_name": "Python 2",
   "language": "python",
   "name": "python2"
  },
  "language_info": {
   "codemirror_mode": {
    "name": "ipython",
    "version": 2
   },
   "file_extension": ".py",
   "mimetype": "text/x-python",
   "name": "python",
   "nbconvert_exporter": "python",
   "pygments_lexer": "ipython2",
   "version": "2.7.10"
  }
 },
 "nbformat": 4,
 "nbformat_minor": 0
}
